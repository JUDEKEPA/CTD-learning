{
 "cells": [
  {
   "cell_type": "code",
   "execution_count": 1,
   "id": "7069daf6-6f55-44e9-97a8-fe5268817bf4",
   "metadata": {},
   "outputs": [
    {
     "name": "stderr",
     "output_type": "stream",
     "text": [
      "/Users/zhengdiliu/miniforge3/envs/ctdlearn/lib/python3.10/site-packages/pycalphad/codegen/callables.py:94: UserWarning: State variables in `build_callables` are not {N, P, T}, but {N, T}. This can lead to incorrectly calculated values if the state variables used to call the generated functions do not match the state variables used to create them. State variables can be added with the `additional_statevars` argument.\n",
      "  warnings.warn(\"State variables in `build_callables` are not {{N, P, T}}, but {}. This can lead to incorrectly \"\n"
     ]
    }
   ],
   "source": [
    "from pycalphad.core.calculate import calculate\n",
    "from pycalphad.io.database import Database\n",
    "\n",
    "db_alzn = Database('alzn_mey.tdb') #''..//cfe_broshe.tdb\n",
    "\n",
    "my_phases_alzn = ['LIQUID', 'FCC_A1', 'HCP_A3']\n",
    "\n",
    "a = calculate(db_alzn, ['AL', 'ZN', 'VA'], ['FCC_A1', 'HCP_A3', 'LIQUID'])\n",
    "\n",
    "from pycalphad.core.utils import instantiate_models\n",
    "\n",
    "models = instantiate_models(db_alzn, ['AL', 'ZN', 'VA'], ['FCC_A1', 'HCP_A3', 'LIQUID'], model=None, parameters=dict())"
   ]
  },
  {
   "cell_type": "code",
   "execution_count": 2,
   "id": "38b1ee21-ba17-41df-8f69-ff5b59a788a6",
   "metadata": {},
   "outputs": [],
   "source": [
    "fcc_mod = models['FCC_A1']"
   ]
  },
  {
   "cell_type": "code",
   "execution_count": 32,
   "id": "c8dacf9e-b008-42b5-b6ef-e93a94882e9c",
   "metadata": {},
   "outputs": [],
   "source": [
    "from sympy import sympify\n",
    "sympy_expr = sympify(fcc_mod.GM.diff('FCC_A1'))\n",
    "#sympy_expr = sympify(fcc_mod.HM)"
   ]
  },
  {
   "cell_type": "code",
   "execution_count": 33,
   "id": "6b523f33-988a-4b8a-a917-fd89e82f0ac3",
   "metadata": {},
   "outputs": [
    {
     "data": {
      "text/latex": [
       "$\\displaystyle 0$"
      ],
      "text/plain": [
       "0"
      ]
     },
     "execution_count": 33,
     "metadata": {},
     "output_type": "execute_result"
    }
   ],
   "source": [
    "sympy_expr"
   ]
  },
  {
   "cell_type": "code",
   "execution_count": 56,
   "id": "975f6157-06a8-46da-8102-f0724091f6ac",
   "metadata": {},
   "outputs": [],
   "source": [
    "from pycalphad.core.calculate import calculate\n",
    "from pycalphad.io.database import Database\n",
    "from pycalphad.core.utils import instantiate_models\n",
    "\n",
    "db_feC = Database('/Users/zhengdiliu/SEU/LCM/CTD-learning/notes/code learning/cfe_broshe.tdb') #''..//cfe_broshe.tdb alzn_mey.tdb\n",
    "\n",
    "#my_phases_alzn = ['LIQUID', 'FCC_A1', 'HCP_A3']\n",
    "models = instantiate_models(db_alzn, ['Fe', 'C', 'VA'], ['LIQUID'], model=None, parameters=dict())"
   ]
  },
  {
   "cell_type": "code",
   "execution_count": 57,
   "id": "c319fd25-81fd-4074-9028-0430e3a9adf8",
   "metadata": {},
   "outputs": [],
   "source": [
    "lq_mod = models['LIQUID']"
   ]
  },
  {
   "cell_type": "code",
   "execution_count": 58,
   "id": "667b39f3-8f81-4cab-a544-e02341e79bb2",
   "metadata": {},
   "outputs": [
    {
     "data": {
      "text/latex": [
       "$\\displaystyle \\frac{8.3145 T \\left(1.0 \\left(\\begin{cases} Y(LIQUID,0,C) \\log{\\left(Y(LIQUID,0,C) \\right)} & \\text{for}\\: Y(LIQUID,0,C) > 1.0 \\cdot 10^{-15} \\\\0 & \\text{otherwise} \\end{cases}\\right) + 1.0 \\left(\\begin{cases} Y(LIQUID,0,FE) \\log{\\left(Y(LIQUID,0,FE) \\right)} & \\text{for}\\: Y(LIQUID,0,FE) > 1.0 \\cdot 10^{-15} \\\\0 & \\text{otherwise} \\end{cases}\\right)\\right)}{Y(LIQUID,0,C) + Y(LIQUID,0,FE)} + \\frac{1.0 \\left(Y(LIQUID,0,C) \\left(14400.0 \\cdot 2.71828182845905^{5.85 \\cdot 10^{-5} T - 0.02925 \\log{\\left(0.002 T + 1.0 \\right)}} \\left(1.11111111111111 + 1.36071866571928 \\cdot 10^{-16} i\\right) + 45979999.9958545 \\cdot 2.71828182845905^{0.25 \\log{\\left(1.6296296257037 \\cdot 10^{-11} P + 1.0 \\right)}} - 24.9435 T \\log{\\left(1.0 - 1.0 \\cdot 2.71828182845905^{- \\frac{1350.0}{T^{1.0}}} \\right)} + 24.9435 T \\log{\\left(1.0 - 1.0 \\cdot 2.71828182845905^{- \\frac{1350.0 \\cdot 2.71828182845905^{- \\frac{1.0}{\\left(0.5 \\cdot 2.71828182845905^{0.5 \\log{\\left(2.666666668 \\cdot 10^{-11} P + 1.0 \\right)}} + 0.5\\right)^{1.0}} + \\frac{1.0}{\\left(2.71828182845905^{0.5 \\log{\\left(2.666666668 \\cdot 10^{-11} P + 1.0 \\right)}} + 1\\right)^{2.0}} + 0.75}}{T^{1.0}}} \\right)} - 24.63 T - \\frac{267520000.0038}{\\left(0.272727272702479 \\cdot 2.71828182845905^{0.25 \\log{\\left(1.6296296257037 \\cdot 10^{-11} P + 1.0 \\right)}} + 0.727272727297521\\right)^{1.0}} + \\frac{61306666.6744606}{\\left(0.374999999953125 \\cdot 2.71828182845905^{0.25 \\log{\\left(1.6296296257037 \\cdot 10^{-11} P + 1.0 \\right)}} + 1\\right)^{2.0}} - 0.166666666666667 \\left(- 5.0 \\cdot 2.71828182845905^{0.2 - 0.2 \\cdot 2.71828182845905^{0.5 \\log{\\left(2.0 \\cdot 10^{-10} P + 1.0 \\right)}}} - 1.0 \\cdot 2.71828182845905^{- 0.2 \\cdot 2.71828182845905^{0.5 \\log{\\left(2.0 \\cdot 10^{-10} P + 1.0 \\right)}} + 0.5 \\log{\\left(2.0 \\cdot 10^{-10} P + 1.0 \\right)} + 0.2} + 6.0\\right) \\left(- 24.9435 T \\log{\\left(1.0 - 1.0 \\cdot 2.71828182845905^{- \\frac{1350.0}{T^{1.0}}} \\right)} + 0.09009204 T + \\begin{cases} - 0.09009204 T - 2.75 \\cdot 10^{-5} T^{3.0} - 1049.14084 & \\text{for}\\: T < 103.0 \\\\1.76583 T \\log{\\left(T \\right)} - 7.39898691 T - 0.01706952 T^{2.0} - 988.25091 & \\text{for}\\: T < 350.0 \\\\\\frac{12000000000.0}{T^{3.0}} - \\frac{264300000.0}{T^{2.0}} + \\frac{2562600.0}{T^{1.0}} - 24.3 T \\log{\\left(T \\right)} + 170.73 T - 0.0004723 T^{2.0} - 17368.441 & \\text{otherwise} \\end{cases} + 1049.14084\\right) + \\begin{cases} - 0.09009204 T - 2.75 \\cdot 10^{-5} T^{3.0} - 1049.14084 & \\text{for}\\: T < 103.0 \\\\1.76583 T \\log{\\left(T \\right)} - 7.39898691 T - 0.01706952 T^{2.0} - 988.25091 & \\text{for}\\: T < 350.0 \\\\\\frac{12000000000.0}{T^{3.0}} - \\frac{264300000.0}{T^{2.0}} + \\frac{2562600.0}{T^{1.0}} - 24.3 T \\log{\\left(T \\right)} + 170.73 T - 0.0004723 T^{2.0} - 17368.441 & \\text{otherwise} \\end{cases} - 367840000.0038 \\log{\\left(0.272727272702479 \\cdot 2.71828182845905^{0.25 \\log{\\left(1.6296296257037 \\cdot 10^{-11} P + 1.0 \\right)}} + 0.727272727297521 \\right)} + 189230702.334945 + 14400.0 \\cdot 2.71828182845905^{- 9.0 \\log{\\left(2.71828182845905^{- 6.5 \\cdot 10^{-6} T + 0.00325 \\log{\\left(0.002 T + 1.0 \\right)}} + 2.5 \\cdot 10^{-11} P \\right)}} \\left(-1.11111111111111 - 1.36071866571928 \\cdot 10^{-16} i\\right)\\right) + Y(LIQUID,0,FE) \\left(72430357.9949597 \\cdot 2.71828182845905^{0.25 \\log{\\left(4.23703702674074 \\cdot 10^{-11} P + 1.0 \\right)}} - 24.9435 T \\log{\\left(1.0 - 1.0 \\cdot 2.71828182845905^{- \\frac{250.0}{T^{1.0}}} \\right)} + 24.9435 T \\log{\\left(1.0 - 1.0 \\cdot 2.71828182845905^{- \\frac{250.0 \\cdot 2.71828182845905^{- \\frac{1.8}{\\left(0.5 \\cdot 2.71828182845905^{0.5 \\log{\\left(6.22222222533333 \\cdot 10^{-11} P + 1.0 \\right)}} + 0.5\\right)^{1.0}} + \\frac{1.8}{\\left(2.71828182845905^{0.5 \\log{\\left(6.22222222533333 \\cdot 10^{-11} P + 1.0 \\right)}} + 1\\right)^{2.0}} + 1.35}}{T^{1.0}}} \\right)} - \\frac{646757511.403542}{\\left(0.209790209775539 \\cdot 2.71828182845905^{0.25 \\log{\\left(4.23703702674074 \\cdot 10^{-11} P + 1.0 \\right)}} + 0.790209790224461\\right)^{1.0}} + \\frac{136410507.571055}{\\left(0.265486725640222 \\cdot 2.71828182845905^{0.25 \\log{\\left(4.23703702674074 \\cdot 10^{-11} P + 1.0 \\right)}} + 1\\right)^{2.0}} - 0.303030303030303 \\left(- 2.3 \\cdot 2.71828182845905^{0.434782608695652 - 0.434782608695652 \\cdot 2.71828182845905^{0.5 \\log{\\left(4.29333333333333 \\cdot 10^{-10} P + 1.0 \\right)}}} - 1.0 \\cdot 2.71828182845905^{- 0.434782608695652 \\cdot 2.71828182845905^{0.5 \\log{\\left(4.29333333333333 \\cdot 10^{-10} P + 1.0 \\right)}} + 0.5 \\log{\\left(4.29333333333333 \\cdot 10^{-10} P + 1.0 \\right)} + 0.434782608695652} + 3.3\\right) \\left(\\begin{cases} - 0.00150187991953291 T^{2.0} & \\text{for}\\: T < 298.15 \\\\- 24.9435 T \\log{\\left(1.0 - 1.0 \\cdot 2.71828182845905^{- \\frac{250.0}{T^{1.0}}} \\right)} + 12.4713130619937 T + \\begin{cases} - 6.55843 T - 3.67516 \\cdot 10^{-21} T^{7.0} + \\begin{cases} - 9.929623 T - 1.975 \\cdot 10^{-6} T^{4.0} + 4701.3908 & \\text{for}\\: T < 50.0 \\\\8.75517 T \\log{\\left(T \\right)} - 41.511332 T - 0.13106 T^{2.0} + 9.2615 \\cdot 10^{-5} T^{3.0} + 4871.6848 & \\text{for}\\: T < 170.0 \\\\\\frac{77359.0}{T^{1.0}} - 23.5143 T \\log{\\left(T \\right)} + 124.134 T - 0.00439752 T^{2.0} - 5.8927 \\cdot 10^{-8} T^{3.0} + 1225.7 & \\text{for}\\: T < 1811.0 \\\\\\frac{2.29603 \\cdot 10^{31}}{T^{9.0}} - 46.0 T \\log{\\left(T \\right)} + 299.31255 T - 25383.581 & \\text{otherwise} \\end{cases} + 12040.17 & \\text{for}\\: T < 1811.0 \\\\- 46.0 T \\log{\\left(T \\right)} + 291.302 T - 10838.83 & \\text{otherwise} \\end{cases} - 16306.4138363395 & \\text{otherwise} \\end{cases}\\right) + \\begin{cases} - 6.55843 T - 3.67516 \\cdot 10^{-21} T^{7.0} + \\begin{cases} - 9.929623 T - 1.975 \\cdot 10^{-6} T^{4.0} + 4701.3908 & \\text{for}\\: T < 50.0 \\\\8.75517 T \\log{\\left(T \\right)} - 41.511332 T - 0.13106 T^{2.0} + 9.2615 \\cdot 10^{-5} T^{3.0} + 4871.6848 & \\text{for}\\: T < 170.0 \\\\\\frac{77359.0}{T^{1.0}} - 23.5143 T \\log{\\left(T \\right)} + 124.134 T - 0.00439752 T^{2.0} - 5.8927 \\cdot 10^{-8} T^{3.0} + 1225.7 & \\text{for}\\: T < 1811.0 \\\\\\frac{2.29603 \\cdot 10^{31}}{T^{9.0}} - 46.0 T \\log{\\left(T \\right)} + 299.31255 T - 25383.581 & \\text{otherwise} \\end{cases} + 12040.17 & \\text{for}\\: T < 1811.0 \\\\- 46.0 T \\log{\\left(T \\right)} + 291.302 T - 10838.83 & \\text{otherwise} \\end{cases} - 818463045.403542 \\log{\\left(0.209790209775539 \\cdot 2.71828182845905^{0.25 \\log{\\left(4.23703702674074 \\cdot 10^{-11} P + 1.0 \\right)}} + 0.790209790224461 \\right)} + 489148133.836012\\right)\\right)}{Y(LIQUID,0,C) + Y(LIQUID,0,FE)} + \\frac{1.0 \\left(Y(LIQUID,0,C) Y(LIQUID,0,FE) \\left(49260.0 - 19.0 T\\right) \\left(Y(LIQUID,0,C) - Y(LIQUID,0,FE)\\right)^{2} + 19300.0 Y(LIQUID,0,C) Y(LIQUID,0,FE) \\left(Y(LIQUID,0,C) - Y(LIQUID,0,FE)\\right) + Y(LIQUID,0,C) Y(LIQUID,0,FE) \\left(18360.0 \\cdot 2.71828182845905^{2.0 - 2.0 \\cdot 2.71828182845905^{0.5 \\log{\\left(1.66666666666667 \\cdot 10^{-10} P + 1.0 \\right)}}} + 36720.0 \\cdot 2.71828182845905^{- 2.0 \\cdot 2.71828182845905^{0.5 \\log{\\left(1.66666666666667 \\cdot 10^{-10} P + 1.0 \\right)}} + 0.5 \\log{\\left(1.66666666666667 \\cdot 10^{-10} P + 1.0 \\right)} + 2.0} + 28.5 T - 179400.0\\right)\\right)}{Y(LIQUID,0,C) + Y(LIQUID,0,FE)}$"
      ],
      "text/plain": [
       "8.3145*T*(1.0*Piecewise((Y(LIQUID,0,C)*log(Y(LIQUID,0,C)), Y(LIQUID,0,C) > 1.0e-15), (0, True)) + 1.0*Piecewise((Y(LIQUID,0,FE)*log(Y(LIQUID,0,FE)), Y(LIQUID,0,FE) > 1.0e-15), (0, True)))/(Y(LIQUID,0,C) + Y(LIQUID,0,FE)) + 1.0*(Y(LIQUID,0,C)*(14400.0*2.71828182845905**(5.85e-5*T - 0.02925*log(0.002*T + 1.0))*(1.11111111111111 + 1.36071866571928e-16*I) + 45979999.9958545*2.71828182845905**(0.25*log(1.6296296257037e-11*P + 1.0)) - 24.9435*T*log(1.0 - 1.0/2.71828182845905**(1350.0/T**1.0)) + 24.9435*T*log(1.0 - 1.0/2.71828182845905**(1350.0*2.71828182845905**(-1.0/(0.5*2.71828182845905**(0.5*log(2.666666668e-11*P + 1.0)) + 0.5)**1.0 + 1.0/(2.71828182845905**(0.5*log(2.666666668e-11*P + 1.0)) + 1)**2.0 + 0.75)/T**1.0)) - 24.63*T - 267520000.0038/(0.272727272702479*2.71828182845905**(0.25*log(1.6296296257037e-11*P + 1.0)) + 0.727272727297521)**1.0 + 61306666.6744606/(0.374999999953125*2.71828182845905**(0.25*log(1.6296296257037e-11*P + 1.0)) + 1)**2.0 - 0.166666666666667*(-5.0*2.71828182845905**(0.2 - 0.2*2.71828182845905**(0.5*log(2.0e-10*P + 1.0))) - 1.0*2.71828182845905**(-0.2*2.71828182845905**(0.5*log(2.0e-10*P + 1.0)) + 0.5*log(2.0e-10*P + 1.0) + 0.2) + 6.0)*(-24.9435*T*log(1.0 - 1.0/2.71828182845905**(1350.0/T**1.0)) + 0.09009204*T + Piecewise((-0.09009204*T - 2.75e-5*T**3.0 - 1049.14084, T < 103.0), (1.76583*T*log(T) - 7.39898691*T - 0.01706952*T**2.0 - 988.25091, T < 350.0), (12000000000.0/T**3.0 - 264300000.0/T**2.0 + 2562600.0/T**1.0 - 24.3*T*log(T) + 170.73*T - 0.0004723*T**2.0 - 17368.441, True)) + 1049.14084) + Piecewise((-0.09009204*T - 2.75e-5*T**3.0 - 1049.14084, T < 103.0), (1.76583*T*log(T) - 7.39898691*T - 0.01706952*T**2.0 - 988.25091, T < 350.0), (12000000000.0/T**3.0 - 264300000.0/T**2.0 + 2562600.0/T**1.0 - 24.3*T*log(T) + 170.73*T - 0.0004723*T**2.0 - 17368.441, True)) - 367840000.0038*log(0.272727272702479*2.71828182845905**(0.25*log(1.6296296257037e-11*P + 1.0)) + 0.727272727297521) + 189230702.334945 + 14400.0*(-1.11111111111111 - 1.36071866571928e-16*I)/2.71828182845905**(9.0*log(2.71828182845905**(-6.5e-6*T + 0.00325*log(0.002*T + 1.0)) + 2.5e-11*P))) + Y(LIQUID,0,FE)*(72430357.9949597*2.71828182845905**(0.25*log(4.23703702674074e-11*P + 1.0)) - 24.9435*T*log(1.0 - 1.0/2.71828182845905**(250.0/T**1.0)) + 24.9435*T*log(1.0 - 1.0/2.71828182845905**(250.0*2.71828182845905**(-1.8/(0.5*2.71828182845905**(0.5*log(6.22222222533333e-11*P + 1.0)) + 0.5)**1.0 + 1.8/(2.71828182845905**(0.5*log(6.22222222533333e-11*P + 1.0)) + 1)**2.0 + 1.35)/T**1.0)) - 646757511.403542/(0.209790209775539*2.71828182845905**(0.25*log(4.23703702674074e-11*P + 1.0)) + 0.790209790224461)**1.0 + 136410507.571055/(0.265486725640222*2.71828182845905**(0.25*log(4.23703702674074e-11*P + 1.0)) + 1)**2.0 - 0.303030303030303*(-2.3*2.71828182845905**(0.434782608695652 - 0.434782608695652*2.71828182845905**(0.5*log(4.29333333333333e-10*P + 1.0))) - 1.0*2.71828182845905**(-0.434782608695652*2.71828182845905**(0.5*log(4.29333333333333e-10*P + 1.0)) + 0.5*log(4.29333333333333e-10*P + 1.0) + 0.434782608695652) + 3.3)*Piecewise((-0.00150187991953291*T**2.0, T < 298.15), (-24.9435*T*log(1.0 - 1.0/2.71828182845905**(250.0/T**1.0)) + 12.4713130619937*T + Piecewise((-6.55843*T - 3.67516e-21*T**7.0 + Piecewise((-9.929623*T - 1.975e-6*T**4.0 + 4701.3908, T < 50.0), (8.75517*T*log(T) - 41.511332*T - 0.13106*T**2.0 + 9.2615e-5*T**3.0 + 4871.6848, T < 170.0), (77359.0/T**1.0 - 23.5143*T*log(T) + 124.134*T - 0.00439752*T**2.0 - 5.8927e-8*T**3.0 + 1225.7, T < 1811.0), (2.29603e+31/T**9.0 - 46.0*T*log(T) + 299.31255*T - 25383.581, True)) + 12040.17, T < 1811.0), (-46.0*T*log(T) + 291.302*T - 10838.83, True)) - 16306.4138363395, True)) + Piecewise((-6.55843*T - 3.67516e-21*T**7.0 + Piecewise((-9.929623*T - 1.975e-6*T**4.0 + 4701.3908, T < 50.0), (8.75517*T*log(T) - 41.511332*T - 0.13106*T**2.0 + 9.2615e-5*T**3.0 + 4871.6848, T < 170.0), (77359.0/T**1.0 - 23.5143*T*log(T) + 124.134*T - 0.00439752*T**2.0 - 5.8927e-8*T**3.0 + 1225.7, T < 1811.0), (2.29603e+31/T**9.0 - 46.0*T*log(T) + 299.31255*T - 25383.581, True)) + 12040.17, T < 1811.0), (-46.0*T*log(T) + 291.302*T - 10838.83, True)) - 818463045.403542*log(0.209790209775539*2.71828182845905**(0.25*log(4.23703702674074e-11*P + 1.0)) + 0.790209790224461) + 489148133.836012))/(Y(LIQUID,0,C) + Y(LIQUID,0,FE)) + 1.0*(Y(LIQUID,0,C)*Y(LIQUID,0,FE)*(49260.0 - 19.0*T)*(Y(LIQUID,0,C) - Y(LIQUID,0,FE))**2 + 19300.0*Y(LIQUID,0,C)*Y(LIQUID,0,FE)*(Y(LIQUID,0,C) - Y(LIQUID,0,FE)) + Y(LIQUID,0,C)*Y(LIQUID,0,FE)*(18360.0*2.71828182845905**(2.0 - 2.0*2.71828182845905**(0.5*log(1.66666666666667e-10*P + 1.0))) + 36720.0*2.71828182845905**(-2.0*2.71828182845905**(0.5*log(1.66666666666667e-10*P + 1.0)) + 0.5*log(1.66666666666667e-10*P + 1.0) + 2.0) + 28.5*T - 179400.0))/(Y(LIQUID,0,C) + Y(LIQUID,0,FE))"
      ]
     },
     "execution_count": 58,
     "metadata": {},
     "output_type": "execute_result"
    }
   ],
   "source": [
    "sympy_expr = sympify(lq_mod.GM)\n",
    "sympy_expr"
   ]
  },
  {
   "cell_type": "code",
   "execution_count": null,
   "id": "452c91a3-d146-4362-9fc1-be4c9a784087",
   "metadata": {},
   "outputs": [],
   "source": []
  }
 ],
 "metadata": {
  "kernelspec": {
   "display_name": "Python 3 (ipykernel)",
   "language": "python",
   "name": "python3"
  },
  "language_info": {
   "codemirror_mode": {
    "name": "ipython",
    "version": 3
   },
   "file_extension": ".py",
   "mimetype": "text/x-python",
   "name": "python",
   "nbconvert_exporter": "python",
   "pygments_lexer": "ipython3",
   "version": "3.10.13"
  }
 },
 "nbformat": 4,
 "nbformat_minor": 5
}
